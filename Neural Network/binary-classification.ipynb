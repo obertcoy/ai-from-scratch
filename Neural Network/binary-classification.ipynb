{
 "cells": [
  {
   "cell_type": "code",
   "execution_count": 1,
   "metadata": {},
   "outputs": [],
   "source": [
    "from typing import List\n",
    "import numpy as np"
   ]
  },
  {
   "cell_type": "code",
   "execution_count": 2,
   "metadata": {},
   "outputs": [],
   "source": [
    "def linear_func(x):\n",
    "    return x\n",
    "\n",
    "def relu_func(x):\n",
    "    \n",
    "    if x < 0:\n",
    "        return 0\n",
    "    \n",
    "    return x\n",
    "\n",
    "def sigmoid_func(x):\n",
    "    \n",
    "    return 1 / (1 + np.exp(-x))"
   ]
  },
  {
   "cell_type": "code",
   "execution_count": 3,
   "metadata": {},
   "outputs": [
    {
     "name": "stdout",
     "output_type": "stream",
     "text": [
      "Input: [0.41205583 0.8139293  0.88354064 0.47743495 0.2649931 ]\n",
      "Features shape: (5,)\n",
      "Weights: [0.95355378 0.70815891 0.61716406 0.50314312 0.2661864 ]\n",
      "Bias: 0.7899132896321607\n",
      "Output: 2.6152671723246432\n"
     ]
    }
   ],
   "source": [
    "class Neuron:\n",
    "    \n",
    "    def __init__(self, x: np.ndarray, weights= -1, bias= -1, activation_func=linear_func):\n",
    "        \n",
    "        self.x = x\n",
    "        self.activation_func = activation_func\n",
    "        \n",
    "        if weights == -1:\n",
    "            weights = np.random.random_sample(x.shape)\n",
    "            \n",
    "        if bias == -1:\n",
    "            bias = np.random.rand()\n",
    "            \n",
    "        self.weights = weights\n",
    "        self.bias = bias        \n",
    "            \n",
    "        print(f'Features shape: {x.shape}')\n",
    "        print(f'Weights: {self.weights}')\n",
    "        print(f'Bias: {self.bias}')\n",
    "        \n",
    "    def call(self) -> float:\n",
    "        \n",
    "        out = self.activation_func(np.dot(self.x, self.weights) + self.bias)\n",
    "        \n",
    "        return out\n",
    "        \n",
    "    \n",
    "test = np.zeros(5)\n",
    "test_input = np.random.random_sample(test.shape)\n",
    "print(f'Input: {test_input}')\n",
    "\n",
    "neuron1 = Neuron(test_input)\n",
    "print(f'Output: {neuron1.call()}')\n",
    "        "
   ]
  },
  {
   "cell_type": "code",
   "execution_count": 4,
   "metadata": {},
   "outputs": [
    {
     "name": "stdout",
     "output_type": "stream",
     "text": [
      "Features shape: (5,)\n",
      "Weights: [0.2962151  0.20378442 0.24046985 0.78075155 0.08079923]\n",
      "Bias: 0.41979663176377224\n",
      "Features shape: (5,)\n",
      "Weights: [0.56764202 0.14484202 0.50185652 0.72658269 0.14253474]\n",
      "Bias: 0.751990044518809\n",
      "Features shape: (5,)\n",
      "Weights: [0.11832639 0.73388092 0.12292069 0.40284004 0.67711489]\n",
      "Bias: 0.11591357013918402\n",
      "Features shape: (5,)\n",
      "Weights: [0.15478198 0.18943162 0.36900835 0.10661634 0.18813048]\n",
      "Bias: 0.08877998320931157\n",
      "Features shape: (5,)\n",
      "Weights: [0.82613148 0.36102509 0.20283006 0.65838711 0.50205725]\n",
      "Bias: 0.9908900977604326\n",
      "Dense Layer 1 Output: (5,)\n"
     ]
    }
   ],
   "source": [
    "class DenseLayer:\n",
    "    \n",
    "    def __init__(self, x, units, activation_func=linear_func):\n",
    "        \n",
    "        self.units = units\n",
    "        self.neurons: List[Neuron] = np.array([Neuron(x, activation_func=activation_func) for _ in range(units)])\n",
    "        \n",
    "    def call(self) -> np.ndarray:\n",
    "        \n",
    "        self.out = np.array([neuron.call() for neuron in self.neurons])\n",
    "        \n",
    "        return self.out\n",
    "        \n",
    "    \n",
    "dense1 = DenseLayer(test_input, units=5, activation_func=linear_func)\n",
    "out_dense1 = dense1.call()\n",
    "\n",
    "print(f'Dense Layer 1 Output: {dense1.neurons.shape}')\n",
    "        \n",
    "        "
   ]
  }
 ],
 "metadata": {
  "kernelspec": {
   "display_name": "Python 3",
   "language": "python",
   "name": "python3"
  },
  "language_info": {
   "codemirror_mode": {
    "name": "ipython",
    "version": 3
   },
   "file_extension": ".py",
   "mimetype": "text/x-python",
   "name": "python",
   "nbconvert_exporter": "python",
   "pygments_lexer": "ipython3",
   "version": "3.10.9"
  }
 },
 "nbformat": 4,
 "nbformat_minor": 2
}
