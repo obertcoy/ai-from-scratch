{
 "cells": [
  {
   "cell_type": "code",
   "execution_count": 18,
   "metadata": {},
   "outputs": [],
   "source": [
    "from typing import List\n",
    "import numpy as np"
   ]
  },
  {
   "cell_type": "code",
   "execution_count": 19,
   "metadata": {},
   "outputs": [],
   "source": [
    "def linear_func(x):\n",
    "    return x\n",
    "\n",
    "def relu_func(x):\n",
    "    \n",
    "    if x < 0:\n",
    "        return 0\n",
    "    \n",
    "    return x\n",
    "\n",
    "def sigmoid_func(x):\n",
    "    \n",
    "    return 1 / (1 + np.exp(-x))"
   ]
  },
  {
   "cell_type": "code",
   "execution_count": 32,
   "metadata": {},
   "outputs": [
    {
     "name": "stdout",
     "output_type": "stream",
     "text": [
      "Shape: (50, 5)\n",
      "Output: [1.26443739 1.45773016 1.98548164 2.11162803 1.55466154 1.79148952\n",
      " 1.45257609 1.52495348 0.98209983 0.94427132 1.20194585 2.11039386\n",
      " 1.67551087 1.00846891 1.26911648 1.7990897  1.071958   1.4321312\n",
      " 1.91227984 2.34293656 1.06710906 2.18365455 1.75208071 1.47591492\n",
      " 1.73452619 1.92920003 1.45645459 1.3897937  1.7687849  1.73543349\n",
      " 1.27641487 0.88858546 1.32618753 1.59236319 1.23219033 1.62588931\n",
      " 1.23689831 1.87245539 1.41475338 1.47296012 1.32241075 1.46694237\n",
      " 1.37628003 1.47961915 1.90507423 1.06132957 1.6774999  1.81117301\n",
      " 1.00988705 1.79230571] | Shape: (50,)\n"
     ]
    }
   ],
   "source": [
    "class Neuron:\n",
    "    \n",
    "    def __init__(self, x: np.ndarray, weights= -1, bias= -1, activation_func=linear_func, verbose=0):\n",
    "        \n",
    "        self.x = x\n",
    "        self.activation_func = activation_func\n",
    "        \n",
    "        if weights == -1:\n",
    "            weights = np.random.random_sample(x.shape[-1])\n",
    "            \n",
    "        if bias == -1:\n",
    "            bias = np.random.rand()\n",
    "            \n",
    "        self.weights = weights\n",
    "        self.bias = bias        \n",
    "            \n",
    "        if verbose == 1:\n",
    "\n",
    "            print(f'Nueron Input Shape: {x.shape}')\n",
    "            print(f'Weights Shape: {self.weights.shape}')\n",
    "            print(f'Bias: {self.bias}')\n",
    "        \n",
    "    def call(self) -> float:\n",
    "        \n",
    "        out = self.activation_func(np.dot(self.x, self.weights) + self.bias)\n",
    "        \n",
    "        return out\n",
    "        \n",
    "    \n",
    "test = np.zeros(5)\n",
    "test_input = np.random.random_sample((50,5))\n",
    "# print(f'Input: {test_input}')\n",
    "print(f'Shape: {test_input.shape}')\n",
    "\n",
    "neuron1 = Neuron(test_input)\n",
    "out1 = neuron1.call()\n",
    "print(f'Output: {out1} | Shape: {out1.shape}')\n",
    "        "
   ]
  },
  {
   "cell_type": "code",
   "execution_count": 33,
   "metadata": {},
   "outputs": [
    {
     "name": "stdout",
     "output_type": "stream",
     "text": [
      "Nueron Input Shape: (50, 5)\n",
      "Weights Shape: (5,)\n",
      "Bias: 0.48048194411460443\n",
      "Nueron Input Shape: (50, 5)\n",
      "Weights Shape: (5,)\n",
      "Bias: 0.6416380335141258\n",
      "Nueron Input Shape: (50, 5)\n",
      "Weights Shape: (5,)\n",
      "Bias: 0.6710345584792613\n",
      "Nueron Input Shape: (50, 5)\n",
      "Weights Shape: (5,)\n",
      "Bias: 0.5658264609247178\n",
      "Nueron Input Shape: (50, 5)\n",
      "Weights Shape: (5,)\n",
      "Bias: 0.5064595963873435\n",
      "Nueron Input Shape: (5, 50)\n",
      "Weights Shape: (50,)\n",
      "Bias: 0.11139361804420189\n",
      "Nueron Input Shape: (5, 50)\n",
      "Weights Shape: (50,)\n",
      "Bias: 0.7703561793856771\n",
      "Nueron Input Shape: (5, 50)\n",
      "Weights Shape: (50,)\n",
      "Bias: 0.7915532664913627\n",
      "Nueron Input Shape: (5, 50)\n",
      "Weights Shape: (50,)\n",
      "Bias: 0.5050840196155362\n",
      "Nueron Input Shape: (5, 50)\n",
      "Weights Shape: (50,)\n",
      "Bias: 0.8926039683623244\n",
      "Nueron Input Shape: (5, 50)\n",
      "Weights Shape: (50,)\n",
      "Bias: 0.8972462736765464\n",
      "Nueron Input Shape: (5, 50)\n",
      "Weights Shape: (50,)\n",
      "Bias: 0.5311839824391636\n",
      "Nueron Input Shape: (5, 50)\n",
      "Weights Shape: (50,)\n",
      "Bias: 0.4249428991328701\n",
      "Nueron Input Shape: (5, 50)\n",
      "Weights Shape: (50,)\n",
      "Bias: 0.9555611922045841\n",
      "Nueron Input Shape: (5, 50)\n",
      "Weights Shape: (50,)\n",
      "Bias: 0.9899192094388038\n",
      "Input Shape: (50, 5)\n",
      "Dense1 Out: (5, 50)\n",
      "Dense2 Out: (10, 5)\n"
     ]
    }
   ],
   "source": [
    "class DenseLayer:\n",
    "    \n",
    "    def __init__(self, x, units, activation_func=linear_func, verbose=0):\n",
    "        \n",
    "        self.units = units\n",
    "        self.neurons: List[Neuron] = np.array([Neuron(x, activation_func=activation_func, verbose=verbose) for _ in range(units)])\n",
    "        \n",
    "    def call(self) -> np.ndarray:\n",
    "        \n",
    "        self.out = np.array([neuron.call() for neuron in self.neurons])\n",
    "        \n",
    "        return self.out\n",
    "        \n",
    "    \n",
    "dense1 = DenseLayer(test_input, units=5, activation_func=linear_func, verbose=1).call()\n",
    "dense2 = DenseLayer(dense1, units=10, activation_func=linear_func, verbose=1).call()\n",
    "\n",
    "print(f'Input Shape: {test_input.shape}')\n",
    "print(f'Dense1 Out: {dense1.shape}')\n",
    "print(f'Dense2 Out: {dense2.shape}')\n",
    "        \n",
    "        "
   ]
  }
 ],
 "metadata": {
  "kernelspec": {
   "display_name": "Python 3",
   "language": "python",
   "name": "python3"
  },
  "language_info": {
   "codemirror_mode": {
    "name": "ipython",
    "version": 3
   },
   "file_extension": ".py",
   "mimetype": "text/x-python",
   "name": "python",
   "nbconvert_exporter": "python",
   "pygments_lexer": "ipython3",
   "version": "3.8.3"
  }
 },
 "nbformat": 4,
 "nbformat_minor": 2
}
